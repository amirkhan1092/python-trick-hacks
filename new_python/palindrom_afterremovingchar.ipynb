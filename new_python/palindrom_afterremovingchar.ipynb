{
 "cells": [
  {
   "cell_type": "code",
   "execution_count": 1,
   "source": [
    "\"\"\"\r\n",
    "sample input \r\n",
    "civmadic\r\n",
    "\r\n",
    "sample output \r\n",
    "ciic  # possible palidrom string\r\n",
    "vmad  # removed char \r\n",
    "\r\n",
    "\"\"\"\r\n",
    "\r\n",
    "def pali(seq):\r\n",
    "    return seq == seq[::-1]\r\n"
   ],
   "outputs": [],
   "metadata": {}
  },
  {
   "cell_type": "code",
   "execution_count": 6,
   "source": [
    "import itertools as it\r\n",
    "st = input(\"Enter the string: \")\r\n",
    "\r\n",
    "pal = ''\r\n",
    "for i in range(len(st)):\r\n",
    "    lst = list(st)\r\n",
    "    for k in range(1, len(st)+1):\r\n",
    "        lst[i:k] = []\r\n",
    "        if pali(lst):\r\n",
    "            pal = ''.join(lst) if len(pal) < len(lst) else pal\r\n",
    "\r\n",
    "print(pal)\r\n",
    "\r\n"
   ],
   "outputs": [
    {
     "output_type": "stream",
     "name": "stdout",
     "text": [
      "abhghba\n"
     ]
    }
   ],
   "metadata": {}
  },
  {
   "cell_type": "code",
   "execution_count": 5,
   "source": [
    "st = 'hello'\r\n",
    "st = list(st)\r\n",
    "st[1:3] = []\r\n",
    "print(st) "
   ],
   "outputs": [
    {
     "output_type": "stream",
     "name": "stdout",
     "text": [
      "['h', 'l', 'o']\n"
     ]
    }
   ],
   "metadata": {}
  }
 ],
 "metadata": {
  "orig_nbformat": 4,
  "language_info": {
   "name": "python",
   "version": "3.7.2",
   "mimetype": "text/x-python",
   "codemirror_mode": {
    "name": "ipython",
    "version": 3
   },
   "pygments_lexer": "ipython3",
   "nbconvert_exporter": "python",
   "file_extension": ".py"
  },
  "kernelspec": {
   "name": "python3",
   "display_name": "Python 3.7.2 32-bit"
  },
  "interpreter": {
   "hash": "8786318122129ba10eb40c9c8a2ede770fe6a9df50dfcd3c6edc33520e4c5279"
  }
 },
 "nbformat": 4,
 "nbformat_minor": 2
}