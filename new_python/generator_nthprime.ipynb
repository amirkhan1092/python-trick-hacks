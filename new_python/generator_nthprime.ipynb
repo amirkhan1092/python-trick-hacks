{
 "cells": [
  {
   "cell_type": "code",
   "execution_count": 1,
   "source": [
    "\r\n",
    "\"\"\"Compute primes.\"\"\"\r\n",
    "from typing import Generator\r\n",
    "def primes() -> Generator[int, None, None]:\r\n",
    "    \"\"\"Prime number generator.\"\"\"\r\n",
    "    yield 2\r\n",
    "    found: set[int] = set()\r\n",
    "    cur = 1\r\n",
    "    while True:\r\n",
    "        cur += 2\r\n",
    "        if any(cur % factor == 0 for factor in found):\r\n",
    "            continue\r\n",
    "        found.add(cur)\r\n",
    "        yield cur\r\n",
    "def prime(number: int) -> int:\r\n",
    "    \"\"\"Return the n'th prime.\"\"\"\r\n",
    "    if number <= 0:\r\n",
    "        raise ValueError(\"there_is_no_zeroth_prime\")\r\n",
    "    gen = primes()\r\n",
    "    return [next(gen) for _ in range(number)][-1]\r\n"
   ],
   "outputs": [],
   "metadata": {}
  },
  {
   "cell_type": "code",
   "execution_count": 2,
   "source": [
    "prime(2)"
   ],
   "outputs": [
    {
     "output_type": "execute_result",
     "data": {
      "text/plain": [
       "3"
      ]
     },
     "metadata": {},
     "execution_count": 2
    }
   ],
   "metadata": {}
  }
 ],
 "metadata": {
  "orig_nbformat": 4,
  "language_info": {
   "name": "python",
   "version": "3.7.2",
   "mimetype": "text/x-python",
   "codemirror_mode": {
    "name": "ipython",
    "version": 3
   },
   "pygments_lexer": "ipython3",
   "nbconvert_exporter": "python",
   "file_extension": ".py"
  },
  "kernelspec": {
   "name": "python3",
   "display_name": "Python 3.7.2 32-bit"
  },
  "interpreter": {
   "hash": "8786318122129ba10eb40c9c8a2ede770fe6a9df50dfcd3c6edc33520e4c5279"
  }
 },
 "nbformat": 4,
 "nbformat_minor": 2
}